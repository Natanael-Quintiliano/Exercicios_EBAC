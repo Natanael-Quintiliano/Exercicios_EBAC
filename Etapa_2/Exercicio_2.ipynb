{
 "cells": [
  {
   "cell_type": "markdown",
   "metadata": {},
   "source": [
    "# Questões  <a name=\"questoes\"></a>\n",
    "1. [Alturas](#alturas)\n",
    "2. [IMC](#imc)\n",
    "3. [Endividamento](#endividamento)\n",
    "4. [Valores especiais](#4)"
   ]
  },
  {
   "cell_type": "code",
   "execution_count": 1,
   "metadata": {
    "id": "fFhFteHV695k"
   },
   "outputs": [],
   "source": [
    "\"\"\"\n",
    "Imports\n",
    "\"\"\"\n",
    "import numpy as np"
   ]
  },
  {
   "cell_type": "markdown",
   "metadata": {},
   "source": [
    "# 1. Alturas <a name=\"alturas\"></a>\n",
    "\n",
    "<div style=\"text-align: right\"\n",
    "     \n",
    "[Voltar ao índice](#questoes)"
   ]
  },
  {
   "cell_type": "markdown",
   "metadata": {
    "id": "YLWEzg3N695m"
   },
   "source": [
    "A) No trecho de código abaixo, crie um ndarray chamado ```altura_em_centimetros``` transformando a lista ```lista_de_alturas``` em um ndarray do numpy com a função ```np.array()```  \n",
    "B) Crie um outro objeto ```altura_em_metros```, com os valores de ```altura_em_centimetros``` convertidos para metros."
   ]
  },
  {
   "cell_type": "code",
   "execution_count": 2,
   "metadata": {
    "id": "tx6DbJk7695o"
   },
   "outputs": [
    {
     "data": {
      "text/plain": [
       "array([170, 175, 180, 185])"
      ]
     },
     "execution_count": 2,
     "metadata": {},
     "output_type": "execute_result"
    }
   ],
   "source": [
    "\"\"\"\n",
    "A) Tranformando lista em ndarray\n",
    "\"\"\" \n",
    "lista_de_centimetros = list(range(170, 190, 5))\n",
    "altura_em_centimetros = np.array(lista_de_centimetros)\n",
    "altura_em_centimetros"
   ]
  },
  {
   "cell_type": "code",
   "execution_count": 3,
   "metadata": {
    "id": "zFDQt9_K695p"
   },
   "outputs": [
    {
     "data": {
      "text/plain": [
       "array([1.7 , 1.75, 1.8 , 1.85])"
      ]
     },
     "execution_count": 3,
     "metadata": {},
     "output_type": "execute_result"
    }
   ],
   "source": [
    "\"\"\"\n",
    "B) Convertendo altura em metros\n",
    "\"\"\"\n",
    "altura_em_metros = altura_em_centimetros/100\n",
    "altura_em_metros"
   ]
  },
  {
   "cell_type": "markdown",
   "metadata": {},
   "source": [
    "# 2. IMC <a name=\"imc\"></a>\n",
    "\n",
    "<div style=\"text-align: right\"\n",
    "     \n",
    "[Voltar ao índice](#questoes)"
   ]
  },
  {
   "cell_type": "markdown",
   "metadata": {
    "id": "hlsDzubv695p"
   },
   "source": [
    "A) Considere que pesos em Kg dessas pessoas, na mesma ortem, estão na lista pesos ```lista_pesos = [70, 75, 80, 85]```. Crie um **ndarray** chamado ```pesos``` com a função ```np.array()``` que contenha esses valores.  \n",
    "B) Utilizando o objeto que contém as alturas em metros e esse objeto que contém os respectivos pesos em quilos, calcule o IMC desses indivíduos utilizando a aritmética de arrays e guarde os resultados em um objeto chamado ```imc```."
   ]
  },
  {
   "cell_type": "code",
   "execution_count": 4,
   "metadata": {
    "id": "YL87C0It695p",
    "outputId": "f147f2f0-c5e8-407c-a708-914ddc99fa6d"
   },
   "outputs": [
    {
     "data": {
      "text/plain": [
       "array([70, 75, 80, 85])"
      ]
     },
     "execution_count": 4,
     "metadata": {},
     "output_type": "execute_result"
    }
   ],
   "source": [
    "\"\"\"\n",
    "A) Tranformando lista em ndarray\n",
    "\"\"\"\n",
    "lista_pesos = [70, 75, 80, 85]\n",
    "pesos = np.array(lista_pesos)\n",
    "pesos"
   ]
  },
  {
   "cell_type": "code",
   "execution_count": null,
   "metadata": {
    "id": "WgZtY2Ox695q"
   },
   "outputs": [],
   "source": [
    "\"\"\"\n",
    "B) Calculando o IMC dessas pessoas\n",
    "\"\"\"\n",
    "imc = pesos / (altura_em_metros ** 2)\n",
    "imc"
   ]
  },
  {
   "cell_type": "markdown",
   "metadata": {},
   "source": [
    "# 3. Endividamento <a name=\"endividamento\"></a>\n",
    "\n",
    "<div style=\"text-align: right\"\n",
    "     \n",
    "[Voltar ao índice](#questoes)"
   ]
  },
  {
   "cell_type": "markdown",
   "metadata": {
    "id": "k1JIBxZb695r"
   },
   "source": [
    "Cálculos de novas variáveis como endividamento total e comprometimento de renda são essenciais para a construção de modelos financeiros em ciência de dados. Áreas não financeiras terão cálculos semelhantes também. Vamos praticar:\n",
    "\n",
    "Considere que o seguinte ndarray contém os dados de 4 pessoas, total a ser pago a empréstimos mensalmente e renda familiar:\n",
    "\n",
    "| custo fixo | dívida financeira | renda familiar |\n",
    "|:----:|:----:|:---|\n",
    "| 3000  | 1000 | 6000 |\n",
    "| 2500  | 2500 | 5500 |\n",
    "| 1000  | 3000 | 7000 |\n",
    "| 10000 | 5000 | 16000 |\n",
    "\n",
    "i. Transforme a lista de listas ```dados_financeiros``` no ndarray ```nd_financeiros```.\n",
    "> ``` dados_financeiros[[3000, 2500, 1000, 10000],[1000, 2500, 3000, 5000],[6000, 5500, 7000, 16000]] ```\n",
    "\n",
    "ii. Utilize o método ```.transpose ``` e certifique-se de que esse ndarray tenha uma linha por indivíduo e uma coluna por informação. Utilizando a indexação do numpy, imprima no output a segunda linha do array, depois a segunda coluna.\n",
    "\n",
    "iii. Pratique aritmética com nearrays e calcule o endividamento total como:\n",
    "$$endividamento\\hspace{.2cm}total = \\frac{custo \\hspace{.2cm}fixo + dívida\\hspace{.2cm}financeira}{renda\\hspace{.2cm}familiar}$$\n",
    "Guarde os resultados em uma variável chamada ```endividamento_total``` e verifique os resultados imprimindo o conteúdo dessa variável no output.\n",
    "\n",
    "iv. Considere que há um erro de digitação que precisa ser corrigido: 3o indivíduo na verdade não possui renda familiar de R\\\\$7.000,00, mas sim R\\\\$ 10.000,00. Corrija esse valor e refaça os cálculos."
   ]
  },
  {
   "cell_type": "code",
   "execution_count": 6,
   "metadata": {
    "id": "k17jw6kT695r"
   },
   "outputs": [
    {
     "data": {
      "text/plain": [
       "array([[ 3000,  1000,  6000],\n",
       "       [ 2500,  2500,  5500],\n",
       "       [ 1000,  3000,  7000],\n",
       "       [10000,  5000, 16000]])"
      ]
     },
     "execution_count": 6,
     "metadata": {},
     "output_type": "execute_result"
    }
   ],
   "source": [
    "\"\"\"\n",
    "A) e B) Tranformando lista em ndarray ja utilizando o metodo .transpose para que seja uma linha por indivíduo e uma coluna por informação\n",
    "\"\"\"\n",
    "dados_financeiros = [[3000, 2500, 1000, 10000],[1000, 2500, 3000, 5000],[6000, 5500, 7000, 16000]]\n",
    "nd_financeiros = np.transpose(dados_financeiros)\n",
    "nd_financeiros"
   ]
  },
  {
   "cell_type": "code",
   "execution_count": 7,
   "metadata": {
    "id": "RgMG-t9-695s"
   },
   "outputs": [
    {
     "data": {
      "text/plain": [
       "array([66.66666667, 90.90909091, 57.14285714, 93.75      ])"
      ]
     },
     "execution_count": 7,
     "metadata": {},
     "output_type": "execute_result"
    }
   ],
   "source": [
    "\"\"\"\n",
    "C) Calculando o endividamento total \n",
    "\"\"\"\n",
    "endividamento_total=(nd_financeiros[:,0]+nd_financeiros[:,1])/nd_financeiros[:,2]\n",
    "endividamento_total*100"
   ]
  },
  {
   "cell_type": "code",
   "execution_count": 8,
   "metadata": {
    "id": "OYxfd00O695t"
   },
   "outputs": [
    {
     "name": "stdout",
     "output_type": "stream",
     "text": [
      "Antes:\n",
      "[[ 3000  1000  6000]\n",
      " [ 2500  2500  5500]\n",
      " [ 1000  3000  7000]\n",
      " [10000  5000 16000]]\n",
      "Depois:\n",
      "[[ 3000  1000  6000]\n",
      " [ 2500  2500  5500]\n",
      " [ 1000  3000 10000]\n",
      " [10000  5000 16000]]\n"
     ]
    }
   ],
   "source": [
    "\"\"\"\n",
    "D) Corrigindo um valor específico\n",
    "\"\"\"\n",
    "print('Antes:\\n{}'.format(nd_financeiros))\n",
    "nd_financeiros_corrigido = nd_financeiros\n",
    "nd_financeiros_corrigido[2,2] = 10000\n",
    "print('Depois:\\n{}'.format(nd_financeiros_corrigido))"
   ]
  },
  {
   "cell_type": "code",
   "execution_count": 9,
   "metadata": {},
   "outputs": [
    {
     "data": {
      "text/plain": [
       "array([66.66666667, 90.90909091, 40.        , 93.75      ])"
      ]
     },
     "execution_count": 9,
     "metadata": {},
     "output_type": "execute_result"
    }
   ],
   "source": [
    "\"\"\"\n",
    "E) Recalculando o endividamento total\n",
    "\"\"\"\n",
    "endividamento_total = ((nd_financeiros_corrigido[:,0] + nd_financeiros_corrigido[:,1]) / nd_financeiros_corrigido[:,2] * 100)\n",
    "endividamento_total "
   ]
  },
  {
   "cell_type": "code",
   "execution_count": 10,
   "metadata": {},
   "outputs": [
    {
     "data": {
      "text/plain": [
       "array([[ 3000.        ,  1000.        ,  6000.        ,    66.66666667],\n",
       "       [ 2500.        ,  2500.        ,  5500.        ,    90.90909091],\n",
       "       [ 1000.        ,  3000.        , 10000.        ,    40.        ],\n",
       "       [10000.        ,  5000.        , 16000.        ,    93.75      ]])"
      ]
     },
     "execution_count": 10,
     "metadata": {},
     "output_type": "execute_result"
    }
   ],
   "source": [
    "\"\"\"\n",
    "Bonus) Adicionando a coluna porcentual de endividamento a tabela \n",
    "\"\"\"\n",
    "nd_financeiros_final = np.column_stack((nd_financeiros_corrigido, endividamento_total))\n",
    "nd_financeiros_final"
   ]
  },
  {
   "cell_type": "markdown",
   "metadata": {},
   "source": [
    "Tabela Atualizada:\n",
    "\n",
    "| custo fixo | dívida financeira | renda familiar | porcentual de endividamento\n",
    "|:----:|:----:|:---|:---|\n",
    "| 3000  | 1000 | 6000 |66.67\n",
    "| 2500  | 2500 | 5500 |90.91\n",
    "| 1000  | 3000 | 10000 |40\n",
    "| 10000 | 5000 | 16000 |93.75"
   ]
  },
  {
   "cell_type": "markdown",
   "metadata": {},
   "source": [
    "# 4.  É muito comum precisarmos identificar valores especiais e darmos tratamento a eles quer seja alterando-os quer seja descartando-os. <a name=\"4\"></a>\n",
    "\n",
    "<div style=\"text-align: right\"\n",
    "     \n",
    "[Voltar ao índice](#questoes)"
   ]
  },
  {
   "cell_type": "markdown",
   "metadata": {
    "id": "RghMgSOX695t"
   },
   "source": [
    "O trecho de código abaixo gera um ndarray com números pseudo aleatórios. Considere que para efeitos do estudo que virá, devemos desconsiderar valores iguais a zero. Sendo assim:\n",
    "\n",
    "i) crie um objeto ```bool_zero``` que traga uma sequencia de booleanos do mesmo tamanho que o objeto poi, e que vale ```True``` quando o valor de ```poi``` é zero, e ```False``` caso contrário.\n",
    "\n",
    "ii) Conte quantos valores zero existem. Lembre-se de que no final das contas, ```True``` vale 1 para o Python, e ```False``` vale zero, então uma boa dica seria usar a função ```sum()```.\n",
    "\n",
    "iii) Utilize a indexação booleana que você aprendeu para criar uma variável ```poi_nao_zero``` que aponta para os elementos de ```poi``` diferentes de zero. Dica: você vai pode inverter os elementos do objeto que criou em *ii)* ou escrever a comparação adequada."
   ]
  },
  {
   "cell_type": "code",
   "execution_count": 11,
   "metadata": {
    "id": "Y6JUhNiT695t",
    "outputId": "06ceb3b7-5eb0-45d0-f3b3-ea6ff6f0df2a"
   },
   "outputs": [
    {
     "data": {
      "text/plain": [
       "array([3, 3, 6, 2, 4, 5, 4, 4, 2, 0, 3, 3, 2, 8, 2, 3, 3, 3, 0, 4, 4, 2,\n",
       "       6, 6, 0, 3, 4, 3, 5, 2, 1, 3, 2, 2, 3, 2, 4, 4, 5, 7, 3, 5, 3, 3,\n",
       "       2, 2, 3, 6, 2, 2, 4, 3, 5, 2, 5, 3, 0, 2, 1, 1, 4, 4, 4, 6, 2, 4,\n",
       "       1, 2, 5, 5, 3, 4, 1, 4, 1, 1, 7, 1, 2, 1, 3, 7, 0, 4, 4, 0, 6, 1,\n",
       "       3, 4, 2, 5, 4, 5, 5, 3, 4, 6, 8, 2])"
      ]
     },
     "execution_count": 11,
     "metadata": {},
     "output_type": "execute_result"
    }
   ],
   "source": [
    "\"\"\"\n",
    "Objeto poi - obs: o comando np.random.seed(1234) garante que o mesmo resultado será gerado sempre\n",
    "\"\"\"\n",
    "np.random.seed(1234)\n",
    "poi = np.random.poisson(3, 100)\n",
    "poi"
   ]
  },
  {
   "cell_type": "code",
   "execution_count": 12,
   "metadata": {
    "id": "dWElD2MJ695u"
   },
   "outputs": [
    {
     "data": {
      "text/plain": [
       "array([False, False, False, False, False, False, False, False, False,\n",
       "        True, False, False, False, False, False, False, False, False,\n",
       "        True, False, False, False, False, False,  True, False, False,\n",
       "       False, False, False, False, False, False, False, False, False,\n",
       "       False, False, False, False, False, False, False, False, False,\n",
       "       False, False, False, False, False, False, False, False, False,\n",
       "       False, False,  True, False, False, False, False, False, False,\n",
       "       False, False, False, False, False, False, False, False, False,\n",
       "       False, False, False, False, False, False, False, False, False,\n",
       "       False,  True, False, False,  True, False, False, False, False,\n",
       "       False, False, False, False, False, False, False, False, False,\n",
       "       False])"
      ]
     },
     "execution_count": 12,
     "metadata": {},
     "output_type": "execute_result"
    }
   ],
   "source": [
    "\"\"\"\n",
    "A) Criando o objeto bool_zero \n",
    "\"\"\"\n",
    "bool_zero = poi == 0 \n",
    "bool_zero"
   ]
  },
  {
   "cell_type": "code",
   "execution_count": 13,
   "metadata": {
    "id": "hr-knXzs695u"
   },
   "outputs": [
    {
     "data": {
      "text/plain": [
       "6"
      ]
     },
     "execution_count": 13,
     "metadata": {},
     "output_type": "execute_result"
    }
   ],
   "source": [
    "\"\"\"\n",
    "B) Somando a quantidade de zeros dos elementos de bool_zero\n",
    "\"\"\"\n",
    "bool_zero.sum()"
   ]
  },
  {
   "cell_type": "code",
   "execution_count": 14,
   "metadata": {
    "id": "5s3DqCup695u"
   },
   "outputs": [
    {
     "data": {
      "text/plain": [
       "array([ True,  True,  True,  True,  True,  True,  True,  True,  True,\n",
       "       False,  True,  True,  True,  True,  True,  True,  True,  True,\n",
       "       False,  True,  True,  True,  True,  True, False,  True,  True,\n",
       "        True,  True,  True,  True,  True,  True,  True,  True,  True,\n",
       "        True,  True,  True,  True,  True,  True,  True,  True,  True,\n",
       "        True,  True,  True,  True,  True,  True,  True,  True,  True,\n",
       "        True,  True, False,  True,  True,  True,  True,  True,  True,\n",
       "        True,  True,  True,  True,  True,  True,  True,  True,  True,\n",
       "        True,  True,  True,  True,  True,  True,  True,  True,  True,\n",
       "        True, False,  True,  True, False,  True,  True,  True,  True,\n",
       "        True,  True,  True,  True,  True,  True,  True,  True,  True,\n",
       "        True])"
      ]
     },
     "execution_count": 14,
     "metadata": {},
     "output_type": "execute_result"
    }
   ],
   "source": [
    "\"\"\"\n",
    "C) Utilizando a indexação booleana para criar uma seleção de não-zeros\n",
    "\"\"\"\n",
    "bool_nao_zero = poi >= 1 \n",
    "bool_nao_zero"
   ]
  },
  {
   "cell_type": "code",
   "execution_count": 15,
   "metadata": {},
   "outputs": [
    {
     "data": {
      "text/plain": [
       "94"
      ]
     },
     "execution_count": 15,
     "metadata": {},
     "output_type": "execute_result"
    }
   ],
   "source": [
    "\"\"\"\n",
    "Bonus) Somando a quantidade de zeros dos elementos de bool_nao_zero\n",
    "\"\"\"\n",
    "bool_nao_zero.sum()"
   ]
  },
  {
   "cell_type": "code",
   "execution_count": 16,
   "metadata": {},
   "outputs": [
    {
     "name": "stdout",
     "output_type": "stream",
     "text": [
      "A quantidade de elementos no objeto \"poi\" é 100;\n",
      "A quantidade de elementos no objeto \"bool_nao_zero\" é 94;\n",
      "A quantidade de elementos no objeto \"bool_zero\" é 6.\n"
     ]
    }
   ],
   "source": [
    "\"\"\"\n",
    "Conferindo valores:\n",
    "\n",
    " A função Len retorna quantos elementos tem o objeto poi\n",
    "\"\"\"\n",
    "print('A quantidade de elementos no objeto \"poi\" é {};'.format(len(poi)))\n",
    "\n",
    "\"\"\"\n",
    "Soma dos elementos no objeto bool_nao_zero\n",
    "\"\"\"\n",
    "print('A quantidade de elementos no objeto \"bool_nao_zero\" é {};'.format(bool_nao_zero.sum()))\n",
    "\n",
    "\"\"\"\n",
    "Soma dos elementos no objeto bool_zero\n",
    "\"\"\"\n",
    "print('A quantidade de elementos no objeto \"bool_zero\" é {}.'.format(bool_zero.sum()))"
   ]
  }
 ],
 "metadata": {
  "colab": {
   "collapsed_sections": [],
   "provenance": []
  },
  "kernelspec": {
   "display_name": "Python 3 (ipykernel)",
   "language": "python",
   "name": "python3"
  },
  "language_info": {
   "codemirror_mode": {
    "name": "ipython",
    "version": 3
   },
   "file_extension": ".py",
   "mimetype": "text/x-python",
   "name": "python",
   "nbconvert_exporter": "python",
   "pygments_lexer": "ipython3",
   "version": "3.11.5"
  }
 },
 "nbformat": 4,
 "nbformat_minor": 1
}
