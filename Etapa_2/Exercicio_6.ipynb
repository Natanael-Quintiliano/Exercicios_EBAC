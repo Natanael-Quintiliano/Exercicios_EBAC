{
 "cells": [
  {
   "cell_type": "markdown",
   "metadata": {},
   "source": [
    "# Questões  <a name=\"questoes\"></a>\n",
    "1. [Carregando a base e verificando duplicações](#lendo)\n",
    "2. [Missing Values I](#missing)\n",
    "3. [Missing Values II](#missingII)\n",
    "4. [Missing Values III](#missingIII)\n",
    "5. [Missing Values IV](#missingIV)\n",
    "6. [Missing Values V](#missingV)\n",
    "7. [Missing Values VI](#missingVI)\n",
    "8. [Categorização](#categorizacao)\n",
    "9. [Renomear variaveis](#renomeando)"
   ]
  },
  {
   "cell_type": "code",
   "execution_count": 1,
   "metadata": {},
   "outputs": [],
   "source": [
    "\"\"\"\n",
    "Importando as bibliotecas\n",
    "\"\"\"\n",
    "import pandas as pd\n",
    "import requests"
   ]
  },
  {
   "cell_type": "markdown",
   "metadata": {},
   "source": [
    "# Base de nascidos vivos do DataSUS\n",
    "\n",
    "O DataSUS disponibiliza diversos arquivos de dados com relação a seus segurados, conforme a [lei da transparência de informações públicas](https://www.sisgov.com/transparencia-acesso-informacao/#:~:text=A%20Lei%20da%20Transpar%C3%AAncia%20(LC,em%20um%20site%20na%20internet.). \n",
    "\n",
    "Essas informações podem ser obtidas pela internet [aqui](http://www2.datasus.gov.br/DATASUS/index.php?area=0901&item=1). Como o processo de obtenção desses arquivos foge um pouco do nosso escopo, deixamos o arquivo SINASC_RO_2019.csv` já como vai ser encontrado no DataSUS. O dicionário de dados está no arquivo `estrutura_sinasc_para_CD.pdf` (o nome do arquivo tal qual no portal do DataSUS).\n",
    "\n",
    "### Nosso objetivo\n",
    "Queremos deixar uma base organizada para podermos estudar a relação entre partos com risco para o bebê e algumas condições como tempo de parto, consultas de pré-natal etc.\n",
    "\n",
    "#### Preparação da base\n",
    "1. Carregue a base 'SINASC_RO_2019.csv'. Conte o número de registros e o número de registros não duplicados da base. Dica: você aprendeu um método que remove duplicados, encadeie este método com um outro método que conta o número de linhas. **Há linhas duplicadas?**  \n",
    "\n",
    "2. Conte o número de valores *missing* por variável.  \n",
    "\n",
    "3. Ok, no item anterior você deve ter achado pouco prático ler a informação de tantas variáveis, muitas delas nem devem ser interesantes. Então crie uma seleção dessa base somente com as colunas que interessam. São elas:\n",
    "` \n",
    "['LOCNASC', 'IDADEMAE', 'ESTCIVMAE', 'ESCMAE', 'QTDFILVIVO', \n",
    "    'GESTACAO', 'GRAVIDEZ', 'CONSULTAS', 'APGAR5'] \n",
    "`\n",
    "Refaça a contagem de valores *missings*.  \n",
    "\n",
    "4. Apgar é uma *nota* que o pediatra dá ao bebê quando nasce de acordo com algumas características associadas principalmente à respiração. Apgar 1 e Apgar 5 são as notas 1 e 5 minutos do nascimento. Apgar5 será a nossa variável de interesse principal. Então remova todos os registros com Apgar5 não preenchido. Para esta seleção, conte novamente o número de linhas e o número de *missings*.  \n",
    "\n",
    "5. observe que as variáveis `['ESTCIVMAE', 'CONSULTAS']` possuem o código `9`, que significa *ignorado*. Vamos assumir que o não preenchido é o mesmo que o código `9`.<br>\n",
    "6. Substitua os valores faltantes da quantitativa (`QTDFILVIVO`) por zero.  \n",
    "7. Das restantes, decida que valore te parece mais adequado (um 'não preenchido' ou um valor 'mais provável' como no item anterior) e preencha. Justifique. Lembre-se de que tratamento de dados é trabalho do cientista, e que estamos tomando decisões a todo o momento - não há necessariamente certo e errado aqui.  \n",
    "8. O Apgar possui uma classificação indicando se o bebê passou por asfixia:\n",
    "- Entre 8 e 10 está em uma faixa 'normal'. \n",
    "- Entre 6 e 7, significa que o recém-nascido passou por 'asfixia leve'. \n",
    "- Entre 4 e 5 significa 'asfixia moderada'.\n",
    "- Entre 0 e 3 significa 'asfixia severa'.  \n",
    "\n",
    "Crie uma categorização dessa variável com essa codificação e calcule as frequências dessa categorização.  \n",
    "<br>\n",
    "9. Renomeie as variáveis para que fiquem no *snake case*, ou seja, em letras minúsculas, com um *underscore* entre as palávras. Dica: repare que se você não quiser criar um *dataframe* novo, você vai precisar usar a opção `inplace = True`."
   ]
  },
  {
   "cell_type": "markdown",
   "metadata": {},
   "source": [
    "### 1. Carregando a base e verificando duplicações <a name=\"lendo\"></a>\n",
    "\n",
    "<div style=\"text-align: right\"\n",
    "     \n",
    "[Voltar ao índice](#questoes)\n",
    "\n",
    "Carregue a base 'SINASC_RO_2019.csv'. Conte o número de registros e o número de registros não duplicados da base. Dica: você \n",
    "aprendeu um método que remove duplicados, encadeie este método com um outro método que conta o número de linhas. Há linhas\n",
    "duplicadas?\n",
    "     "
   ]
  },
  {
   "cell_type": "code",
   "execution_count": 2,
   "metadata": {},
   "outputs": [
    {
     "name": "stdout",
     "output_type": "stream",
     "text": [
      "(27028, 69)\n"
     ]
    },
    {
     "data": {
      "text/plain": [
       "(27028, 69)"
      ]
     },
     "execution_count": 2,
     "metadata": {},
     "output_type": "execute_result"
    }
   ],
   "source": [
    "\"\"\"\n",
    "Não há linhas duplicadas.\n",
    "\"\"\"\n",
    "df_sinasc = pd.read_csv('SINASC_RO_2019.csv')\n",
    "print(df_sinasc.shape)\n",
    "df_sinasc.drop_duplicates().shape"
   ]
  },
  {
   "cell_type": "markdown",
   "metadata": {},
   "source": [
    "### 2. Missing Values I <a name=\"missing\"></a>\n",
    "\n",
    "<div style=\"text-align: right\"\n",
    "     \n",
    "[Voltar ao índice](#questoes)\n",
    "     \n",
    "Conte o número de valores missing por variável."
   ]
  },
  {
   "cell_type": "code",
   "execution_count": 3,
   "metadata": {
    "scrolled": false
   },
   "outputs": [
    {
     "data": {
      "text/plain": [
       "ORIGEM          0\n",
       "CODESTAB      115\n",
       "CODMUNNASC      0\n",
       "LOCNASC         0\n",
       "IDADEMAE        0\n",
       "             ... \n",
       "munResUf        0\n",
       "munResLat       1\n",
       "munResLon       1\n",
       "munResAlt       1\n",
       "munResArea      1\n",
       "Length: 69, dtype: int64"
      ]
     },
     "execution_count": 3,
     "metadata": {},
     "output_type": "execute_result"
    }
   ],
   "source": [
    "df_sinasc.isna().sum()"
   ]
  },
  {
   "cell_type": "markdown",
   "metadata": {},
   "source": [
    "### 3. Missing Values II <a name=\"missingII\"></a>\n",
    "\n",
    "<div style=\"text-align: right\"\n",
    "     \n",
    "[Voltar ao índice](#questoes)\n",
    "\n",
    "Ok, no item anterior você deve ter achado pouco prático ler a informação de tantas variáveis, muitas delas nem devem ser \n",
    "interesantes.Então crie uma seleção dessa base somente com as colunas que interessam.\n",
    "São elas: ['LOCNASC','IDADEMAE','ESTCIVMAE','ESCMAE','QTDFILVIVO','GESTACAO','GRAVIDEZ','CONSULTAS','APGAR5']. Refaça a contagem de valores missings."
   ]
  },
  {
   "cell_type": "code",
   "execution_count": 4,
   "metadata": {
    "scrolled": false
   },
   "outputs": [
    {
     "data": {
      "text/plain": [
       "LOCNASC          0\n",
       "IDADEMAE         0\n",
       "ESTCIVMAE      317\n",
       "ESCMAE         312\n",
       "QTDFILVIVO    1573\n",
       "GESTACAO      1232\n",
       "GRAVIDEZ        79\n",
       "CONSULTAS        0\n",
       "APGAR5         103\n",
       "dtype: int64"
      ]
     },
     "execution_count": 4,
     "metadata": {},
     "output_type": "execute_result"
    }
   ],
   "source": [
    "df_sinasc_sel = df_sinasc[['LOCNASC','IDADEMAE','ESTCIVMAE','ESCMAE','QTDFILVIVO','GESTACAO','GRAVIDEZ','CONSULTAS','APGAR5']]\n",
    "df_sinasc_sel.isna().sum()"
   ]
  },
  {
   "cell_type": "markdown",
   "metadata": {},
   "source": [
    "### 4. Missing Values III <a name=\"missingIII\"></a>\n",
    "\n",
    "<div style=\"text-align: right\"\n",
    "     \n",
    "[Voltar ao índice](#questoes)\n",
    "     \n",
    "Apgar é uma nota que o pediatra dá ao bebê quando nasce de acordo com algumas características associadas principalmente à \n",
    "respiração. Apgar 1 e Apgar 5 são as notas 1 e 5 minutos do nascimento. Apgar5 será a nossa variável de interesse principal.\n",
    "Então remova todos os registros com Apgar5 não preenchido. Para esta seleção, conte novamente o número de linhas e o número de \n",
    "missings."
   ]
  },
  {
   "cell_type": "code",
   "execution_count": 5,
   "metadata": {
    "scrolled": true
   },
   "outputs": [
    {
     "name": "stderr",
     "output_type": "stream",
     "text": [
      "C:\\Users\\Natanael_Quintiliano\\AppData\\Local\\Temp\\ipykernel_16824\\760065710.py:1: SettingWithCopyWarning: \n",
      "A value is trying to be set on a copy of a slice from a DataFrame\n",
      "\n",
      "See the caveats in the documentation: https://pandas.pydata.org/pandas-docs/stable/user_guide/indexing.html#returning-a-view-versus-a-copy\n",
      "  df_sinasc_sel.dropna(subset =['APGAR5'], inplace = True)\n"
     ]
    },
    {
     "data": {
      "text/plain": [
       "LOCNASC          0\n",
       "IDADEMAE         0\n",
       "ESTCIVMAE      315\n",
       "ESCMAE         310\n",
       "QTDFILVIVO    1566\n",
       "GESTACAO      1216\n",
       "GRAVIDEZ        76\n",
       "CONSULTAS        0\n",
       "APGAR5           0\n",
       "dtype: int64"
      ]
     },
     "execution_count": 5,
     "metadata": {},
     "output_type": "execute_result"
    }
   ],
   "source": [
    "df_sinasc_sel.dropna(subset =['APGAR5'], inplace = True)\n",
    "df_sinasc_sel.isna().sum()"
   ]
  },
  {
   "cell_type": "markdown",
   "metadata": {},
   "source": [
    "### 5. Missing Values IV <a name=\"missingIV\"></a>\n",
    "\n",
    "<div style=\"text-align: right\"\n",
    "     \n",
    "[Voltar ao índice](#questoes)\n",
    "     \n",
    "Observe que as variáveis ['ESTCIVMAE','CONSULTAS'] possuem o código 9, que significa ignorado. Vamos assumir que o não \n",
    "preenchido é o mesmo que o código 9."
   ]
  },
  {
   "cell_type": "code",
   "execution_count": 6,
   "metadata": {},
   "outputs": [
    {
     "name": "stderr",
     "output_type": "stream",
     "text": [
      "C:\\Users\\Natanael_Quintiliano\\AppData\\Local\\Temp\\ipykernel_16824\\1054981930.py:4: SettingWithCopyWarning: \n",
      "A value is trying to be set on a copy of a slice from a DataFrame\n",
      "\n",
      "See the caveats in the documentation: https://pandas.pydata.org/pandas-docs/stable/user_guide/indexing.html#returning-a-view-versus-a-copy\n",
      "  df_sinasc_sel['ESTCIVMAE'].fillna(9, inplace = True)\n"
     ]
    },
    {
     "data": {
      "text/plain": [
       "LOCNASC          0\n",
       "IDADEMAE         0\n",
       "ESTCIVMAE        0\n",
       "ESCMAE         310\n",
       "QTDFILVIVO    1566\n",
       "GESTACAO      1216\n",
       "GRAVIDEZ        76\n",
       "CONSULTAS        0\n",
       "APGAR5           0\n",
       "dtype: int64"
      ]
     },
     "execution_count": 6,
     "metadata": {},
     "output_type": "execute_result"
    }
   ],
   "source": [
    "\"\"\"\n",
    "A coluna 'CONSULTAS' não tinha nenhum não preenchido.\n",
    "\"\"\"\n",
    "df_sinasc_sel['ESTCIVMAE'].fillna(9, inplace = True) \n",
    "df_sinasc_sel.isna().sum()"
   ]
  },
  {
   "cell_type": "markdown",
   "metadata": {},
   "source": [
    "### 6. Missing Values V <a name=\"missingV\"></a>\n",
    "\n",
    "<div style=\"text-align: right\"\n",
    "     \n",
    "[Voltar ao índice](#questoes)\n",
    "\n",
    "Substitua os valores faltantes da quantitativa (QTDFILVIVO) por zero.\n",
    "     "
   ]
  },
  {
   "cell_type": "code",
   "execution_count": 7,
   "metadata": {},
   "outputs": [
    {
     "name": "stderr",
     "output_type": "stream",
     "text": [
      "C:\\Users\\Natanael_Quintiliano\\AppData\\Local\\Temp\\ipykernel_16824\\3566915320.py:1: SettingWithCopyWarning: \n",
      "A value is trying to be set on a copy of a slice from a DataFrame\n",
      "\n",
      "See the caveats in the documentation: https://pandas.pydata.org/pandas-docs/stable/user_guide/indexing.html#returning-a-view-versus-a-copy\n",
      "  df_sinasc_sel['QTDFILVIVO'].fillna(0, inplace = True)\n"
     ]
    },
    {
     "data": {
      "text/plain": [
       "LOCNASC          0\n",
       "IDADEMAE         0\n",
       "ESTCIVMAE        0\n",
       "ESCMAE         310\n",
       "QTDFILVIVO       0\n",
       "GESTACAO      1216\n",
       "GRAVIDEZ        76\n",
       "CONSULTAS        0\n",
       "APGAR5           0\n",
       "dtype: int64"
      ]
     },
     "execution_count": 7,
     "metadata": {},
     "output_type": "execute_result"
    }
   ],
   "source": [
    "df_sinasc_sel['QTDFILVIVO'].fillna(0, inplace = True) \n",
    "df_sinasc_sel.isna().sum()"
   ]
  },
  {
   "cell_type": "markdown",
   "metadata": {},
   "source": [
    "### 7. Missing Values VI <a name=\"missingVI\"></a>\n",
    "\n",
    "<div style=\"text-align: right\"\n",
    "     \n",
    "[Voltar ao índice](#questoes)\n",
    "     \n",
    "Das restantes, decida que valore te parece mais adequado (um 'não preenchido' ou um valor 'mais provável' como no item\n",
    "anterior) e preencha. Justifique. Lembre-se de que tratamento de dados é trabalho do cientista, e que estamos tomando decisões\n",
    "a todo o momento - não há necessariamente certo e errado aqui."
   ]
  },
  {
   "cell_type": "code",
   "execution_count": 8,
   "metadata": {
    "scrolled": true
   },
   "outputs": [
    {
     "name": "stderr",
     "output_type": "stream",
     "text": [
      "C:\\Users\\Natanael_Quintiliano\\AppData\\Local\\Temp\\ipykernel_16824\\157349392.py:1: SettingWithCopyWarning: \n",
      "A value is trying to be set on a copy of a slice from a DataFrame\n",
      "\n",
      "See the caveats in the documentation: https://pandas.pydata.org/pandas-docs/stable/user_guide/indexing.html#returning-a-view-versus-a-copy\n",
      "  df_sinasc_sel['ESCMAE'].fillna('Ignorado', inplace = True)\n",
      "C:\\Users\\Natanael_Quintiliano\\AppData\\Local\\Temp\\ipykernel_16824\\157349392.py:2: SettingWithCopyWarning: \n",
      "A value is trying to be set on a copy of a slice from a DataFrame\n",
      "\n",
      "See the caveats in the documentation: https://pandas.pydata.org/pandas-docs/stable/user_guide/indexing.html#returning-a-view-versus-a-copy\n",
      "  df_sinasc_sel['GESTACAO'].fillna('Ignorado', inplace = True)\n",
      "C:\\Users\\Natanael_Quintiliano\\AppData\\Local\\Temp\\ipykernel_16824\\157349392.py:3: SettingWithCopyWarning: \n",
      "A value is trying to be set on a copy of a slice from a DataFrame\n",
      "\n",
      "See the caveats in the documentation: https://pandas.pydata.org/pandas-docs/stable/user_guide/indexing.html#returning-a-view-versus-a-copy\n",
      "  df_sinasc_sel['GRAVIDEZ'].fillna('Ignorado', inplace = True)\n"
     ]
    },
    {
     "data": {
      "text/plain": [
       "LOCNASC       0\n",
       "IDADEMAE      0\n",
       "ESTCIVMAE     0\n",
       "ESCMAE        0\n",
       "QTDFILVIVO    0\n",
       "GESTACAO      0\n",
       "GRAVIDEZ      0\n",
       "CONSULTAS     0\n",
       "APGAR5        0\n",
       "dtype: int64"
      ]
     },
     "execution_count": 8,
     "metadata": {},
     "output_type": "execute_result"
    }
   ],
   "source": [
    "df_sinasc_sel['ESCMAE'].fillna('Ignorado', inplace = True) \n",
    "df_sinasc_sel['GESTACAO'].fillna('Ignorado', inplace = True) \n",
    "df_sinasc_sel['GRAVIDEZ'].fillna('Ignorado', inplace = True) \n",
    "df_sinasc_sel.isna().sum()"
   ]
  },
  {
   "cell_type": "markdown",
   "metadata": {},
   "source": [
    "### 8. Categorização  <a name=\"categorizacao\"></a>\n",
    "\n",
    "<div style=\"text-align: right\"\n",
    "     \n",
    "[Voltar ao índice](#questoes)\n",
    "\n",
    "Apgar possui uma classificação indicando se o bebê passou por asfixia:\n",
    "\n",
    " Entre 8 e 10 está em uma faixa 'normal'.     \n",
    " Entre 6 e 7, significa que o recém-nascido passou por 'asfixia leve'.     \n",
    " Entre 4 e 5 significa 'asfixia moderada'.     \n",
    " Entre 0 e 3 significa 'asfixia severa'.     \n",
    "     \n",
    "Crie uma categorização dessa variável com essa codificação e calcule as frequências dessa categorização."
   ]
  },
  {
   "cell_type": "code",
   "execution_count": 9,
   "metadata": {
    "scrolled": true
   },
   "outputs": [
    {
     "name": "stderr",
     "output_type": "stream",
     "text": [
      "C:\\Users\\Natanael_Quintiliano\\AppData\\Local\\Temp\\ipykernel_16824\\3469450027.py:1: SettingWithCopyWarning: \n",
      "A value is trying to be set on a copy of a slice from a DataFrame.\n",
      "Try using .loc[row_indexer,col_indexer] = value instead\n",
      "\n",
      "See the caveats in the documentation: https://pandas.pydata.org/pandas-docs/stable/user_guide/indexing.html#returning-a-view-versus-a-copy\n",
      "  df_sinasc_sel.loc[df_sinasc_sel['APGAR5'] <= 3, 'CLASSIFICACAOAPGAR'] = 'Asfixia severa'\n"
     ]
    },
    {
     "data": {
      "text/html": [
       "<div>\n",
       "<style scoped>\n",
       "    .dataframe tbody tr th:only-of-type {\n",
       "        vertical-align: middle;\n",
       "    }\n",
       "\n",
       "    .dataframe tbody tr th {\n",
       "        vertical-align: top;\n",
       "    }\n",
       "\n",
       "    .dataframe thead th {\n",
       "        text-align: right;\n",
       "    }\n",
       "</style>\n",
       "<table border=\"1\" class=\"dataframe\">\n",
       "  <thead>\n",
       "    <tr style=\"text-align: right;\">\n",
       "      <th></th>\n",
       "      <th>LOCNASC</th>\n",
       "      <th>IDADEMAE</th>\n",
       "      <th>ESTCIVMAE</th>\n",
       "      <th>ESCMAE</th>\n",
       "      <th>QTDFILVIVO</th>\n",
       "      <th>GESTACAO</th>\n",
       "      <th>GRAVIDEZ</th>\n",
       "      <th>CONSULTAS</th>\n",
       "      <th>APGAR5</th>\n",
       "      <th>CLASSIFICACAOAPGAR</th>\n",
       "    </tr>\n",
       "  </thead>\n",
       "  <tbody>\n",
       "    <tr>\n",
       "      <th>4940</th>\n",
       "      <td>1</td>\n",
       "      <td>20</td>\n",
       "      <td>5.0</td>\n",
       "      <td>8 a 11 anos</td>\n",
       "      <td>0.0</td>\n",
       "      <td>37 a 41 semanas</td>\n",
       "      <td>Única</td>\n",
       "      <td>4</td>\n",
       "      <td>9.0</td>\n",
       "      <td>Normal</td>\n",
       "    </tr>\n",
       "    <tr>\n",
       "      <th>1525</th>\n",
       "      <td>1</td>\n",
       "      <td>36</td>\n",
       "      <td>2.0</td>\n",
       "      <td>8 a 11 anos</td>\n",
       "      <td>1.0</td>\n",
       "      <td>37 a 41 semanas</td>\n",
       "      <td>Única</td>\n",
       "      <td>3</td>\n",
       "      <td>9.0</td>\n",
       "      <td>Normal</td>\n",
       "    </tr>\n",
       "    <tr>\n",
       "      <th>5832</th>\n",
       "      <td>1</td>\n",
       "      <td>31</td>\n",
       "      <td>2.0</td>\n",
       "      <td>8 a 11 anos</td>\n",
       "      <td>2.0</td>\n",
       "      <td>37 a 41 semanas</td>\n",
       "      <td>Única</td>\n",
       "      <td>4</td>\n",
       "      <td>10.0</td>\n",
       "      <td>Normal</td>\n",
       "    </tr>\n",
       "    <tr>\n",
       "      <th>26634</th>\n",
       "      <td>1</td>\n",
       "      <td>29</td>\n",
       "      <td>2.0</td>\n",
       "      <td>4 a 7 anos</td>\n",
       "      <td>1.0</td>\n",
       "      <td>37 a 41 semanas</td>\n",
       "      <td>Única</td>\n",
       "      <td>4</td>\n",
       "      <td>8.0</td>\n",
       "      <td>Normal</td>\n",
       "    </tr>\n",
       "    <tr>\n",
       "      <th>18986</th>\n",
       "      <td>1</td>\n",
       "      <td>38</td>\n",
       "      <td>1.0</td>\n",
       "      <td>8 a 11 anos</td>\n",
       "      <td>3.0</td>\n",
       "      <td>37 a 41 semanas</td>\n",
       "      <td>Única</td>\n",
       "      <td>3</td>\n",
       "      <td>10.0</td>\n",
       "      <td>Normal</td>\n",
       "    </tr>\n",
       "    <tr>\n",
       "      <th>4451</th>\n",
       "      <td>1</td>\n",
       "      <td>24</td>\n",
       "      <td>5.0</td>\n",
       "      <td>8 a 11 anos</td>\n",
       "      <td>0.0</td>\n",
       "      <td>37 a 41 semanas</td>\n",
       "      <td>Única</td>\n",
       "      <td>4</td>\n",
       "      <td>9.0</td>\n",
       "      <td>Normal</td>\n",
       "    </tr>\n",
       "    <tr>\n",
       "      <th>20400</th>\n",
       "      <td>1</td>\n",
       "      <td>20</td>\n",
       "      <td>2.0</td>\n",
       "      <td>4 a 7 anos</td>\n",
       "      <td>0.0</td>\n",
       "      <td>37 a 41 semanas</td>\n",
       "      <td>Única</td>\n",
       "      <td>4</td>\n",
       "      <td>9.0</td>\n",
       "      <td>Normal</td>\n",
       "    </tr>\n",
       "    <tr>\n",
       "      <th>17771</th>\n",
       "      <td>1</td>\n",
       "      <td>23</td>\n",
       "      <td>5.0</td>\n",
       "      <td>8 a 11 anos</td>\n",
       "      <td>0.0</td>\n",
       "      <td>37 a 41 semanas</td>\n",
       "      <td>Única</td>\n",
       "      <td>4</td>\n",
       "      <td>9.0</td>\n",
       "      <td>Normal</td>\n",
       "    </tr>\n",
       "    <tr>\n",
       "      <th>7900</th>\n",
       "      <td>1</td>\n",
       "      <td>27</td>\n",
       "      <td>1.0</td>\n",
       "      <td>8 a 11 anos</td>\n",
       "      <td>3.0</td>\n",
       "      <td>37 a 41 semanas</td>\n",
       "      <td>Única</td>\n",
       "      <td>1</td>\n",
       "      <td>9.0</td>\n",
       "      <td>Normal</td>\n",
       "    </tr>\n",
       "    <tr>\n",
       "      <th>21688</th>\n",
       "      <td>1</td>\n",
       "      <td>22</td>\n",
       "      <td>1.0</td>\n",
       "      <td>12 anos ou mais</td>\n",
       "      <td>0.0</td>\n",
       "      <td>32 a 36 semanas</td>\n",
       "      <td>Única</td>\n",
       "      <td>4</td>\n",
       "      <td>9.0</td>\n",
       "      <td>Normal</td>\n",
       "    </tr>\n",
       "    <tr>\n",
       "      <th>21397</th>\n",
       "      <td>1</td>\n",
       "      <td>22</td>\n",
       "      <td>2.0</td>\n",
       "      <td>8 a 11 anos</td>\n",
       "      <td>2.0</td>\n",
       "      <td>32 a 36 semanas</td>\n",
       "      <td>Dupla</td>\n",
       "      <td>4</td>\n",
       "      <td>6.0</td>\n",
       "      <td>Asfixia leve</td>\n",
       "    </tr>\n",
       "    <tr>\n",
       "      <th>21738</th>\n",
       "      <td>1</td>\n",
       "      <td>31</td>\n",
       "      <td>2.0</td>\n",
       "      <td>8 a 11 anos</td>\n",
       "      <td>1.0</td>\n",
       "      <td>32 a 36 semanas</td>\n",
       "      <td>Única</td>\n",
       "      <td>4</td>\n",
       "      <td>9.0</td>\n",
       "      <td>Normal</td>\n",
       "    </tr>\n",
       "    <tr>\n",
       "      <th>17221</th>\n",
       "      <td>1</td>\n",
       "      <td>25</td>\n",
       "      <td>9.0</td>\n",
       "      <td>8 a 11 anos</td>\n",
       "      <td>2.0</td>\n",
       "      <td>37 a 41 semanas</td>\n",
       "      <td>Única</td>\n",
       "      <td>4</td>\n",
       "      <td>9.0</td>\n",
       "      <td>Normal</td>\n",
       "    </tr>\n",
       "    <tr>\n",
       "      <th>20137</th>\n",
       "      <td>1</td>\n",
       "      <td>36</td>\n",
       "      <td>2.0</td>\n",
       "      <td>8 a 11 anos</td>\n",
       "      <td>3.0</td>\n",
       "      <td>37 a 41 semanas</td>\n",
       "      <td>Única</td>\n",
       "      <td>4</td>\n",
       "      <td>9.0</td>\n",
       "      <td>Normal</td>\n",
       "    </tr>\n",
       "    <tr>\n",
       "      <th>20892</th>\n",
       "      <td>1</td>\n",
       "      <td>27</td>\n",
       "      <td>1.0</td>\n",
       "      <td>8 a 11 anos</td>\n",
       "      <td>1.0</td>\n",
       "      <td>32 a 36 semanas</td>\n",
       "      <td>Única</td>\n",
       "      <td>2</td>\n",
       "      <td>9.0</td>\n",
       "      <td>Normal</td>\n",
       "    </tr>\n",
       "  </tbody>\n",
       "</table>\n",
       "</div>"
      ],
      "text/plain": [
       "       LOCNASC  IDADEMAE  ESTCIVMAE           ESCMAE  QTDFILVIVO  \\\n",
       "4940         1        20        5.0      8 a 11 anos         0.0   \n",
       "1525         1        36        2.0      8 a 11 anos         1.0   \n",
       "5832         1        31        2.0      8 a 11 anos         2.0   \n",
       "26634        1        29        2.0       4 a 7 anos         1.0   \n",
       "18986        1        38        1.0      8 a 11 anos         3.0   \n",
       "4451         1        24        5.0      8 a 11 anos         0.0   \n",
       "20400        1        20        2.0       4 a 7 anos         0.0   \n",
       "17771        1        23        5.0      8 a 11 anos         0.0   \n",
       "7900         1        27        1.0      8 a 11 anos         3.0   \n",
       "21688        1        22        1.0  12 anos ou mais         0.0   \n",
       "21397        1        22        2.0      8 a 11 anos         2.0   \n",
       "21738        1        31        2.0      8 a 11 anos         1.0   \n",
       "17221        1        25        9.0      8 a 11 anos         2.0   \n",
       "20137        1        36        2.0      8 a 11 anos         3.0   \n",
       "20892        1        27        1.0      8 a 11 anos         1.0   \n",
       "\n",
       "              GESTACAO GRAVIDEZ  CONSULTAS  APGAR5 CLASSIFICACAOAPGAR  \n",
       "4940   37 a 41 semanas    Única          4     9.0             Normal  \n",
       "1525   37 a 41 semanas    Única          3     9.0             Normal  \n",
       "5832   37 a 41 semanas    Única          4    10.0             Normal  \n",
       "26634  37 a 41 semanas    Única          4     8.0             Normal  \n",
       "18986  37 a 41 semanas    Única          3    10.0             Normal  \n",
       "4451   37 a 41 semanas    Única          4     9.0             Normal  \n",
       "20400  37 a 41 semanas    Única          4     9.0             Normal  \n",
       "17771  37 a 41 semanas    Única          4     9.0             Normal  \n",
       "7900   37 a 41 semanas    Única          1     9.0             Normal  \n",
       "21688  32 a 36 semanas    Única          4     9.0             Normal  \n",
       "21397  32 a 36 semanas    Dupla          4     6.0       Asfixia leve  \n",
       "21738  32 a 36 semanas    Única          4     9.0             Normal  \n",
       "17221  37 a 41 semanas    Única          4     9.0             Normal  \n",
       "20137  37 a 41 semanas    Única          4     9.0             Normal  \n",
       "20892  32 a 36 semanas    Única          2     9.0             Normal  "
      ]
     },
     "execution_count": 9,
     "metadata": {},
     "output_type": "execute_result"
    }
   ],
   "source": [
    "df_sinasc_sel.loc[df_sinasc_sel['APGAR5'] <= 3, 'CLASSIFICACAOAPGAR'] = 'Asfixia severa'\n",
    "df_sinasc_sel.loc[(df_sinasc_sel['APGAR5'] >= 4) & \n",
    "                  (df_sinasc_sel['APGAR5'] <= 5), 'CLASSIFICACAOAPGAR'] = 'Asfixia moderada'\n",
    "df_sinasc_sel.loc[(df_sinasc_sel['APGAR5'] >= 6) & \n",
    "                  (df_sinasc_sel['APGAR5'] <= 7), 'CLASSIFICACAOAPGAR'] = 'Asfixia leve'\n",
    "df_sinasc_sel.loc[(df_sinasc_sel['APGAR5'] >= 8) & \n",
    "                  (df_sinasc_sel['APGAR5'] <= 10), 'CLASSIFICACAOAPGAR'] = 'Normal'\n",
    "\n",
    "df_sinasc_sel.sample(15)"
   ]
  },
  {
   "cell_type": "markdown",
   "metadata": {},
   "source": [
    "#### Calculando as frequências dessa categorização."
   ]
  },
  {
   "cell_type": "code",
   "execution_count": 10,
   "metadata": {},
   "outputs": [
    {
     "data": {
      "text/plain": [
       "CLASSIFICACAOAPGAR\n",
       "Normal              98.284123\n",
       "Asfixia leve         1.188487\n",
       "Asfixia severa       0.274838\n",
       "Asfixia moderada     0.252553\n",
       "Name: proportion, dtype: float64"
      ]
     },
     "execution_count": 10,
     "metadata": {},
     "output_type": "execute_result"
    }
   ],
   "source": [
    "df_sinasc_sel['CLASSIFICACAOAPGAR'].value_counts(normalize = True)*100"
   ]
  },
  {
   "cell_type": "markdown",
   "metadata": {},
   "source": [
    "### 9. Renomear variaveis <a name=\"renomeando\"></a>\n",
    "\n",
    "<div style=\"text-align: right\"\n",
    "     \n",
    "[Voltar ao índice](#questoes)\n",
    "     \n",
    "Renomeie as variáveis para que fiquem no snake case, ou seja, em letras minúsculas, com um underscore entre as palávras. \n",
    "Dica: repare que se você não quiser criar um dataframe novo, você vai precisar usar a opção inplace = True."
   ]
  },
  {
   "cell_type": "code",
   "execution_count": 11,
   "metadata": {},
   "outputs": [
    {
     "name": "stderr",
     "output_type": "stream",
     "text": [
      "C:\\Users\\Natanael_Quintiliano\\AppData\\Local\\Temp\\ipykernel_16824\\2593436702.py:1: SettingWithCopyWarning: \n",
      "A value is trying to be set on a copy of a slice from a DataFrame\n",
      "\n",
      "See the caveats in the documentation: https://pandas.pydata.org/pandas-docs/stable/user_guide/indexing.html#returning-a-view-versus-a-copy\n",
      "  df_sinasc_sel['CLASSIFICACAOAPGAR'].replace(['Asfixia severa','Asfixia moderada','Asfixia leve','Normal'],\n"
     ]
    },
    {
     "data": {
      "text/html": [
       "<div>\n",
       "<style scoped>\n",
       "    .dataframe tbody tr th:only-of-type {\n",
       "        vertical-align: middle;\n",
       "    }\n",
       "\n",
       "    .dataframe tbody tr th {\n",
       "        vertical-align: top;\n",
       "    }\n",
       "\n",
       "    .dataframe thead th {\n",
       "        text-align: right;\n",
       "    }\n",
       "</style>\n",
       "<table border=\"1\" class=\"dataframe\">\n",
       "  <thead>\n",
       "    <tr style=\"text-align: right;\">\n",
       "      <th></th>\n",
       "      <th>LOCNASC</th>\n",
       "      <th>IDADEMAE</th>\n",
       "      <th>ESTCIVMAE</th>\n",
       "      <th>ESCMAE</th>\n",
       "      <th>QTDFILVIVO</th>\n",
       "      <th>GESTACAO</th>\n",
       "      <th>GRAVIDEZ</th>\n",
       "      <th>CONSULTAS</th>\n",
       "      <th>APGAR5</th>\n",
       "      <th>CLASSIFICACAOAPGAR</th>\n",
       "    </tr>\n",
       "  </thead>\n",
       "  <tbody>\n",
       "    <tr>\n",
       "      <th>5852</th>\n",
       "      <td>1</td>\n",
       "      <td>27</td>\n",
       "      <td>2.0</td>\n",
       "      <td>8 a 11 anos</td>\n",
       "      <td>1.0</td>\n",
       "      <td>37 a 41 semanas</td>\n",
       "      <td>Única</td>\n",
       "      <td>4</td>\n",
       "      <td>8.0</td>\n",
       "      <td>normal</td>\n",
       "    </tr>\n",
       "    <tr>\n",
       "      <th>6526</th>\n",
       "      <td>1</td>\n",
       "      <td>37</td>\n",
       "      <td>2.0</td>\n",
       "      <td>12 anos ou mais</td>\n",
       "      <td>1.0</td>\n",
       "      <td>32 a 36 semanas</td>\n",
       "      <td>Única</td>\n",
       "      <td>3</td>\n",
       "      <td>10.0</td>\n",
       "      <td>normal</td>\n",
       "    </tr>\n",
       "    <tr>\n",
       "      <th>7211</th>\n",
       "      <td>1</td>\n",
       "      <td>19</td>\n",
       "      <td>1.0</td>\n",
       "      <td>8 a 11 anos</td>\n",
       "      <td>0.0</td>\n",
       "      <td>37 a 41 semanas</td>\n",
       "      <td>Única</td>\n",
       "      <td>2</td>\n",
       "      <td>10.0</td>\n",
       "      <td>normal</td>\n",
       "    </tr>\n",
       "    <tr>\n",
       "      <th>22743</th>\n",
       "      <td>1</td>\n",
       "      <td>21</td>\n",
       "      <td>5.0</td>\n",
       "      <td>4 a 7 anos</td>\n",
       "      <td>1.0</td>\n",
       "      <td>37 a 41 semanas</td>\n",
       "      <td>Única</td>\n",
       "      <td>3</td>\n",
       "      <td>9.0</td>\n",
       "      <td>normal</td>\n",
       "    </tr>\n",
       "    <tr>\n",
       "      <th>23726</th>\n",
       "      <td>1</td>\n",
       "      <td>26</td>\n",
       "      <td>2.0</td>\n",
       "      <td>12 anos ou mais</td>\n",
       "      <td>0.0</td>\n",
       "      <td>37 a 41 semanas</td>\n",
       "      <td>Única</td>\n",
       "      <td>4</td>\n",
       "      <td>9.0</td>\n",
       "      <td>normal</td>\n",
       "    </tr>\n",
       "    <tr>\n",
       "      <th>12985</th>\n",
       "      <td>1</td>\n",
       "      <td>28</td>\n",
       "      <td>2.0</td>\n",
       "      <td>8 a 11 anos</td>\n",
       "      <td>0.0</td>\n",
       "      <td>37 a 41 semanas</td>\n",
       "      <td>Única</td>\n",
       "      <td>4</td>\n",
       "      <td>10.0</td>\n",
       "      <td>normal</td>\n",
       "    </tr>\n",
       "    <tr>\n",
       "      <th>4840</th>\n",
       "      <td>1</td>\n",
       "      <td>15</td>\n",
       "      <td>5.0</td>\n",
       "      <td>4 a 7 anos</td>\n",
       "      <td>0.0</td>\n",
       "      <td>42 semanas e mais</td>\n",
       "      <td>Única</td>\n",
       "      <td>4</td>\n",
       "      <td>8.0</td>\n",
       "      <td>normal</td>\n",
       "    </tr>\n",
       "    <tr>\n",
       "      <th>11269</th>\n",
       "      <td>1</td>\n",
       "      <td>32</td>\n",
       "      <td>2.0</td>\n",
       "      <td>12 anos ou mais</td>\n",
       "      <td>2.0</td>\n",
       "      <td>37 a 41 semanas</td>\n",
       "      <td>Única</td>\n",
       "      <td>4</td>\n",
       "      <td>9.0</td>\n",
       "      <td>normal</td>\n",
       "    </tr>\n",
       "    <tr>\n",
       "      <th>19513</th>\n",
       "      <td>1</td>\n",
       "      <td>20</td>\n",
       "      <td>1.0</td>\n",
       "      <td>12 anos ou mais</td>\n",
       "      <td>0.0</td>\n",
       "      <td>37 a 41 semanas</td>\n",
       "      <td>Única</td>\n",
       "      <td>4</td>\n",
       "      <td>9.0</td>\n",
       "      <td>normal</td>\n",
       "    </tr>\n",
       "    <tr>\n",
       "      <th>19311</th>\n",
       "      <td>1</td>\n",
       "      <td>33</td>\n",
       "      <td>5.0</td>\n",
       "      <td>12 anos ou mais</td>\n",
       "      <td>0.0</td>\n",
       "      <td>37 a 41 semanas</td>\n",
       "      <td>Única</td>\n",
       "      <td>4</td>\n",
       "      <td>9.0</td>\n",
       "      <td>normal</td>\n",
       "    </tr>\n",
       "  </tbody>\n",
       "</table>\n",
       "</div>"
      ],
      "text/plain": [
       "       LOCNASC  IDADEMAE  ESTCIVMAE           ESCMAE  QTDFILVIVO  \\\n",
       "5852         1        27        2.0      8 a 11 anos         1.0   \n",
       "6526         1        37        2.0  12 anos ou mais         1.0   \n",
       "7211         1        19        1.0      8 a 11 anos         0.0   \n",
       "22743        1        21        5.0       4 a 7 anos         1.0   \n",
       "23726        1        26        2.0  12 anos ou mais         0.0   \n",
       "12985        1        28        2.0      8 a 11 anos         0.0   \n",
       "4840         1        15        5.0       4 a 7 anos         0.0   \n",
       "11269        1        32        2.0  12 anos ou mais         2.0   \n",
       "19513        1        20        1.0  12 anos ou mais         0.0   \n",
       "19311        1        33        5.0  12 anos ou mais         0.0   \n",
       "\n",
       "                GESTACAO GRAVIDEZ  CONSULTAS  APGAR5 CLASSIFICACAOAPGAR  \n",
       "5852     37 a 41 semanas    Única          4     8.0             normal  \n",
       "6526     32 a 36 semanas    Única          3    10.0             normal  \n",
       "7211     37 a 41 semanas    Única          2    10.0             normal  \n",
       "22743    37 a 41 semanas    Única          3     9.0             normal  \n",
       "23726    37 a 41 semanas    Única          4     9.0             normal  \n",
       "12985    37 a 41 semanas    Única          4    10.0             normal  \n",
       "4840   42 semanas e mais    Única          4     8.0             normal  \n",
       "11269    37 a 41 semanas    Única          4     9.0             normal  \n",
       "19513    37 a 41 semanas    Única          4     9.0             normal  \n",
       "19311    37 a 41 semanas    Única          4     9.0             normal  "
      ]
     },
     "execution_count": 11,
     "metadata": {},
     "output_type": "execute_result"
    }
   ],
   "source": [
    "df_sinasc_sel['CLASSIFICACAOAPGAR'].replace(['Asfixia severa','Asfixia moderada','Asfixia leve','Normal'], \n",
    "                                             ['asfixia_severa','asfixia_moderada','asfixia_leve','normal'], inplace=True)\n",
    "\n",
    "df_sinasc_sel.sample(10)"
   ]
  }
 ],
 "metadata": {
  "kernelspec": {
   "display_name": "Python 3 (ipykernel)",
   "language": "python",
   "name": "python3"
  },
  "language_info": {
   "codemirror_mode": {
    "name": "ipython",
    "version": 3
   },
   "file_extension": ".py",
   "mimetype": "text/x-python",
   "name": "python",
   "nbconvert_exporter": "python",
   "pygments_lexer": "ipython3",
   "version": "3.11.5"
  }
 },
 "nbformat": 4,
 "nbformat_minor": 4
}
